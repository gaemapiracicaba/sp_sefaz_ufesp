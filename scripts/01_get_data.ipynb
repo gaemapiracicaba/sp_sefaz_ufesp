{
 "cells": [
  {
   "cell_type": "markdown",
   "metadata": {
    "pycharm": {
     "name": "#%% md\n"
    }
   },
   "source": [
    "<br>\n",
    "\n",
    "# Introdução\n",
    "\n",
    "Atualiza o valor da UFESP\n"
   ]
  },
  {
   "cell_type": "code",
   "execution_count": null,
   "metadata": {},
   "outputs": [],
   "source": [
    "import sys\n",
    "import pandas as pd\n",
    "from pathlib import Path\n",
    "import ssl\n",
    "\n",
    "ssl._create_default_https_context = ssl._create_unverified_context\n"
   ]
  },
  {
   "cell_type": "code",
   "execution_count": null,
   "metadata": {
    "collapsed": false,
    "pycharm": {
     "name": "#%%\n"
    }
   },
   "outputs": [],
   "source": [
    "# Paths\n",
    "project_path = Path().absolute().parent\n",
    "print(project_path)\n",
    "sys.path.append(str(project_path))\n"
   ]
  },
  {
   "cell_type": "code",
   "execution_count": null,
   "metadata": {},
   "outputs": [],
   "source": [
    "from ufesp.paths import data_path\n"
   ]
  },
  {
   "cell_type": "code",
   "execution_count": null,
   "metadata": {
    "pycharm": {
     "name": "#%%\n"
    }
   },
   "outputs": [],
   "source": [
    "URL = 'https://legislacao.fazenda.sp.gov.br/Paginas/ValoresDaUFESP.aspx'\n",
    "dfs = pd.read_html(URL)\n",
    "df = dfs[2]\n",
    "df.head()\n"
   ]
  },
  {
   "cell_type": "code",
   "execution_count": null,
   "metadata": {
    "pycharm": {
     "name": "#%%\n"
    }
   },
   "outputs": [],
   "source": [
    "df['VALOR EM R$'] = df['VALOR EM R$'].replace(',', '', regex=True)\n",
    "df['VALOR EM R$'] = df['VALOR EM R$'].replace('\\u200b', '', regex=True)\n",
    "df['VALOR EM R$'] = df['VALOR EM R$'].astype(float)\n",
    "df['VALOR EM R$'] = df['VALOR EM R$'] / 100\n",
    "df.head()\n"
   ]
  },
  {
   "cell_type": "code",
   "execution_count": null,
   "metadata": {
    "pycharm": {
     "name": "#%%\n"
    }
   },
   "outputs": [],
   "source": [
    "df['PERÍODO'] = df['PERÍODO'].replace('de ', '', regex=True)\n",
    "df['PERÍODO'] = df['PERÍODO'].replace(' a ', ' A ', regex=True)\n",
    "\n",
    "df['PERÍODO'] = df['PERÍODO'].replace('\\u200b', '', regex=True)\n",
    "df['PERÍODO'] = df['PERÍODO'].replace('\\xa0', ' ', regex=True)\n",
    "df[['data_inicio', 'data_fim']] = df['PERÍODO'].str.split('A', 1, expand=True)\n",
    "\n",
    "df['data_inicio'] = df.loc[:, 'data_inicio'].str.strip()\n",
    "df['data_inicio'] = pd.to_datetime(df['data_inicio'], format='%d/%m/%Y')\n",
    "\n",
    "df['data_fim'] = df.loc[:, 'data_fim'].str.strip()\n",
    "df['data_fim'] = pd.to_datetime(df['data_fim'], format='%d/%m/%Y')\n",
    "\n",
    "df.loc[:, 'ano_mes'] = pd.to_datetime(df['data_inicio']).dt.to_period('M')\n",
    "\n",
    "df.rename(\n",
    "    {'VALOR EM R$': 'valor', 'BASE LEGAL': 'base_legal'}, axis=1, inplace=True\n",
    ")\n",
    "\n",
    "df['base_legal'] = df['base_legal'].replace('\\u200b', '', regex=True)\n",
    "df['base_legal'] = df.loc[:, 'base_legal'].str.strip()\n"
   ]
  },
  {
   "cell_type": "code",
   "execution_count": null,
   "metadata": {
    "collapsed": false,
    "pycharm": {
     "name": "#%%\n"
    }
   },
   "outputs": [],
   "source": [
    "# Results\n",
    "df = df[[\n",
    "    'data_inicio',\n",
    "    'data_fim',\n",
    "    'ano_mes',\n",
    "    'valor',\n",
    "    'base_legal'\n",
    "]].copy()\n",
    "\n",
    "# Save\n",
    "df.to_csv(\n",
    "    data_path / 'ufesp.csv',\n",
    "    index=False,\n",
    "    decimal=',',\n",
    ")\n",
    "\n",
    "df\n"
   ]
  },
  {
   "cell_type": "code",
   "execution_count": null,
   "metadata": {
    "collapsed": false,
    "pycharm": {
     "name": "#%%\n"
    }
   },
   "outputs": [],
   "source": []
  }
 ],
 "metadata": {
  "kernelspec": {
   "display_name": "Python 3.10.6 ('pablocarreira-lastest')",
   "language": "python",
   "name": "python3"
  },
  "language_info": {
   "codemirror_mode": {
    "name": "ipython",
    "version": 3
   },
   "file_extension": ".py",
   "mimetype": "text/x-python",
   "name": "python",
   "nbconvert_exporter": "python",
   "pygments_lexer": "ipython3",
   "version": "3.10.6"
  },
  "vscode": {
   "interpreter": {
    "hash": "4fe01b1e548a48625e93ad3ec9d7217eaa82c8c5a1273b2b8580787b5d806f08"
   }
  }
 },
 "nbformat": 4,
 "nbformat_minor": 4
}
