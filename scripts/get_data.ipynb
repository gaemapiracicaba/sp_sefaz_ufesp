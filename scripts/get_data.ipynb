{
 "cells": [
  {
   "cell_type": "markdown",
   "metadata": {
    "pycharm": {
     "name": "#%% md\n"
    }
   },
   "source": [
    "<br>\n",
    "\n",
    "# Introdução\n",
    "\n",
    "Atualiza o valor da UFESP\n"
   ]
  },
  {
   "cell_type": "code",
   "execution_count": null,
   "metadata": {
    "pycharm": {
     "name": "#%%\n"
    }
   },
   "outputs": [],
   "source": [
    "import pandas as pd\n",
    "#from pathlib import Path\n",
    "from ufesp.paths import *"
   ]
  },
  {
   "cell_type": "code",
   "execution_count": null,
   "metadata": {
    "pycharm": {
     "name": "#%%\n"
    }
   },
   "outputs": [],
   "source": [
    "# Paths\n",
    "#project_path = Path().resolve().absolute().parent\n",
    "#data_path = project_path / 'ufesp' / 'data'\n",
    "\n",
    "project_path"
   ]
  },
  {
   "cell_type": "code",
   "execution_count": null,
   "metadata": {
    "pycharm": {
     "name": "#%%\n"
    }
   },
   "outputs": [],
   "source": [
    "URL = 'https://legislacao.fazenda.sp.gov.br/Paginas/ValoresDaUFESP.aspx'\n",
    "dfs = pd.read_html(URL)\n"
   ]
  },
  {
   "cell_type": "code",
   "execution_count": null,
   "metadata": {
    "pycharm": {
     "name": "#%%\n"
    }
   },
   "outputs": [],
   "source": [
    "df = dfs[2]\n",
    "df\n"
   ]
  },
  {
   "cell_type": "code",
   "execution_count": null,
   "metadata": {
    "pycharm": {
     "name": "#%%\n"
    }
   },
   "outputs": [],
   "source": [
    "df.loc[:, 'VALOR EM R$'] = df['VALOR EM R$'].replace(',', '', regex=True)\n",
    "df.loc[:, 'VALOR EM R$'] = df['VALOR EM R$'].replace('\\u200b', '', regex=True)\n",
    "df.loc[:, 'VALOR EM R$'] = df['VALOR EM R$'].astype(float)\n",
    "df.loc[:, 'VALOR EM R$'] = df['VALOR EM R$'] / 100\n",
    "df\n"
   ]
  },
  {
   "cell_type": "code",
   "execution_count": null,
   "metadata": {
    "pycharm": {
     "name": "#%%\n"
    }
   },
   "outputs": [],
   "source": [
    "df.loc[:, 'PERÍODO'] = df['PERÍODO'].replace('de ', '', regex=True)\n",
    "df.loc[:, 'PERÍODO'] = df['PERÍODO'].replace(' a ', ' A ', regex=True)\n",
    "\n",
    "df.loc[:, 'PERÍODO'] = df['PERÍODO'].replace('\\u200b', '', regex=True)\n",
    "df.loc[:, 'PERÍODO'] = df['PERÍODO'].replace('\\xa0', ' ', regex=True)\n",
    "df[['data_inicio', 'data_fim']] = df['PERÍODO'].str.split('A', 1, expand=True)\n",
    "\n",
    "df.loc[:, 'data_inicio'] = df.loc[:, 'data_inicio'].str.strip()\n",
    "df.loc[:, 'data_fim'] = df.loc[:, 'data_fim'].str.strip()\n",
    "\n",
    "df.loc[:, 'data_inicio'] = pd.to_datetime(df['data_inicio'], format='%d/%m/%Y')\n",
    "df.loc[:, 'data_fim'] = pd.to_datetime(df['data_fim'], format='%d/%m/%Y')\n",
    "\n",
    "df.loc[:, 'ano_mes'] = pd.to_datetime(df['data_inicio']).dt.to_period('M')\n",
    "\n",
    "df.rename({'VALOR EM R$': 'valor', 'BASE LEGAL': 'base_legal'},\n",
    "          axis=1, inplace=True)\n",
    "\n",
    "df.loc[:, 'base_legal'] = df['base_legal'].replace('\\u200b', '', regex=True)\n",
    "df.loc[:, 'base_legal'] = df.loc[:, 'base_legal'].str.strip()\n",
    "\n",
    "df = df[['data_inicio', 'data_fim', 'ano_mes', 'valor', 'base_legal']]\n",
    "df\n"
   ]
  },
  {
   "cell_type": "code",
   "execution_count": null,
   "metadata": {
    "pycharm": {
     "name": "#%%\n"
    }
   },
   "outputs": [],
   "source": []
  },
  {
   "cell_type": "code",
   "execution_count": null,
   "metadata": {
    "pycharm": {
     "name": "#%%\n"
    }
   },
   "outputs": [],
   "source": [
    "\n",
    "# Save\n",
    "df.to_csv(\n",
    "    data_path / 'ufesp.csv',\n",
    "    index=False,\n",
    "    decimal=',',\n",
    ")"
   ]
  },
  {
   "cell_type": "code",
   "execution_count": null,
   "metadata": {
    "pycharm": {
     "name": "#%%\n"
    }
   },
   "outputs": [],
   "source": []
  }
 ],
 "metadata": {
  "kernelspec": {
   "display_name": "Python 3 (ipykernel)",
   "language": "python",
   "name": "python3"
  },
  "language_info": {
   "codemirror_mode": {
    "name": "ipython",
    "version": 3
   },
   "file_extension": ".py",
   "mimetype": "text/x-python",
   "name": "python",
   "nbconvert_exporter": "python",
   "pygments_lexer": "ipython3",
   "version": "3.9.13"
  },
  "vscode": {
   "interpreter": {
    "hash": "2bdda54bf0f28693adab761d90c570fb0a7faa3609b365313c0b5d078440c060"
   }
  }
 },
 "nbformat": 4,
 "nbformat_minor": 4
}
